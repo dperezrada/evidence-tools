{
 "cells": [
  {
   "cell_type": "code",
   "execution_count": null,
   "metadata": {},
   "outputs": [],
   "source": [
    "# default_exp main"
   ]
  },
  {
   "cell_type": "code",
   "execution_count": null,
   "metadata": {},
   "outputs": [],
   "source": [
    "from nbdev.showdoc import *"
   ]
  },
  {
   "cell_type": "markdown",
   "metadata": {},
   "source": [
    "# Main\n",
    "\n",
    "> This are the main functions, where we are going to "
   ]
  },
  {
   "cell_type": "code",
   "execution_count": null,
   "metadata": {},
   "outputs": [],
   "source": [
    "# export \n",
    "from keywords2vec.imports import *\n",
    "\n",
    "from glob import glob\n",
    "from functools import partial\n",
    "\n",
    "import fasttext\n",
    "\n",
    "from keywords2vec.utils import parallel, open_file, chunk_of_text, get_file_chunks\n",
    "from keywords2vec.tokenizer import tokenize"
   ]
  },
  {
   "cell_type": "code",
   "execution_count": null,
   "metadata": {},
   "outputs": [],
   "source": [
    "#export\n",
    "\n",
    "def tokenize_file(\n",
    "    input_path, output_path=\"tokenized.txt\", lang=\"en\",\n",
    "    sample_size=-1, lines_chunks=-1, n_cpus=-1, keywords_w_stopwords=False\n",
    "):\n",
    "    tokenize_wrapper = partial(\n",
    "        tokenize, lang=lang, text_output=True, merge=True, keywords_w_stopwords=keywords_w_stopwords\n",
    "    )\n",
    "\n",
    "    index = 0\n",
    "\n",
    "    with open(output_path, \"wt\") as _output:\n",
    "        for file_path in glob(input_path):\n",
    "            print(\"processing file:\", file_path)\n",
    "            # We are going to split the text in chunks to show some progress.\n",
    "            new_index, text_chunks, break_by_sample = get_file_chunks(index, file_path, lines_chunks, sample_size)\n",
    "            index = new_index\n",
    "            results = parallel(tokenize_wrapper, text_chunks, n_cpus)\n",
    "            _output.write(\n",
    "                (\"\\n\".join(results) + \"\\n\").replace(\" \", \"_\").replace(\"!\", \" \")\n",
    "            )\n",
    "            if break_by_sample:\n",
    "                break\n",
    "    return output_path\n",
    "\n",
    "\n",
    "def train_model(input_filename):\n",
    "    model = fasttext.train_unsupervised(input_filename, model='skipgram', maxn=0, dim=100, ws=5)\n",
    "    return model\n",
    "\n",
    "def similars_tree_from_model(model, vector_size=100):\n",
    "    f = 100\n",
    "    t = AnnoyIndex(f, 'angular')  # Length of item vector that will be indexed\n",
    "    labels = model.labels\n",
    "    for index, label in enumerate(labels):\n",
    "        v = model[label]\n",
    "        t.add_item(index, v)\n",
    "\n",
    "    t.build(10) # 10 trees\n",
    "    return labels, t\n",
    "\n",
    "def get_similars(tree, labels, keyword, n_similars=10, show_score=False):\n",
    "    index = labels.index(keyword.replace(\" \", \"_\"))\n",
    "    suggestions, scores = tree.get_nns_by_item(index, n=15, include_distances=True)\n",
    "    suggested_labels = [\n",
    "        labels[suggestion].replace(\"_\", \" \")\n",
    "        for suggestion in suggestions\n",
    "    ]\n",
    "    return suggested_labels\n",
    "\n",
    "def similars_tree(\n",
    "    input_path, temp_tokenized_file=\"tmp_tokenized.txt\", lang=\"en\",\n",
    "    sample_size=-1, lines_chunks=-1, n_cpus=-1, keywords_w_stopwords=False\n",
    "):\n",
    "    tokenize_file(\n",
    "        input_path=input_path, output_path=temp_tokenized_file, lang=lang,\n",
    "        sample_size=sample_size, lines_chunks=lines_chunks, n_cpus=n_cpus,\n",
    "        keywords_w_stopwords=keywords_w_stopwords\n",
    "    )\n",
    "    model = train_model(temp_tokenized_file)\n",
    "    labels, tree = similars_tree_from_model(model)\n",
    "    return labels, tree\n",
    "    "
   ]
  },
  {
   "cell_type": "code",
   "execution_count": null,
   "metadata": {},
   "outputs": [
    {
     "name": "stdout",
     "output_type": "stream",
     "text": [
      "--2020-02-25 11:52:04--  https://s3.amazonaws.com/episte-labs/epistemonikos_data_sample.tsv.gz\n",
      "Resolving s3.amazonaws.com (s3.amazonaws.com)... 52.216.240.38\n",
      "Connecting to s3.amazonaws.com (s3.amazonaws.com)|52.216.240.38|:443... connected.\n",
      "HTTP request sent, awaiting response... 200 OK\n",
      "Length: 21510551 (21M) [application/gzip]\n",
      "Saving to: ‘epistemonikos_data_sample.tsv.gz’\n",
      "\n",
      "epistemonikos_data_ 100%[===================>]  20.51M  1.76MB/s    in 12s     \n",
      "\n",
      "2020-02-25 11:52:17 (1.70 MB/s) - ‘epistemonikos_data_sample.tsv.gz’ saved [21510551/21510551]\n",
      "\n"
     ]
    }
   ],
   "source": [
    "data_url = \"https://s3.amazonaws.com/episte-labs/epistemonikos_data_sample.tsv.gz\"\n",
    "data_filepath = \"epistemonikos_data_sample.tsv.gz\"\n",
    "tokenized_filepath = \"tokenized_epistemonikos_data.txt\"\n",
    "!wget \"{data_url}\" -O \"{data_filepath}\""
   ]
  },
  {
   "cell_type": "code",
   "execution_count": null,
   "metadata": {},
   "outputs": [
    {
     "data": {
      "text/markdown": [
       "<h4 id=\"tokenize_file\" class=\"doc_header\"><code>tokenize_file</code><a href=\"__main__.py#L3\" class=\"source_link\" style=\"float:right\">[source]</a></h4>\n",
       "\n",
       "> <code>tokenize_file</code>(**`input_path`**, **`output_path`**=*`'tokenized.txt'`*, **`lang`**=*`'en'`*, **`sample_size`**=*`-1`*, **`lines_chunks`**=*`-1`*, **`n_cpus`**=*`-1`*, **`keywords_w_stopwords`**=*`False`*)\n",
       "\n"
      ],
      "text/plain": [
       "<IPython.core.display.Markdown object>"
      ]
     },
     "metadata": {},
     "output_type": "display_data"
    }
   ],
   "source": [
    "show_doc(tokenize_file)"
   ]
  },
  {
   "cell_type": "code",
   "execution_count": null,
   "metadata": {},
   "outputs": [
    {
     "name": "stdout",
     "output_type": "stream",
     "text": [
      "processing file: epistemonikos_data_sample.tsv.gz\n"
     ]
    },
    {
     "data": {
      "text/html": [
       "\n",
       "    <div>\n",
       "        <style>\n",
       "            /* Turns off some styling */\n",
       "            progress {\n",
       "                /* gets rid of default border in Firefox and Opera. */\n",
       "                border: none;\n",
       "                /* Needs to be in here for Safari polyfill so background images work as expected. */\n",
       "                background-size: auto;\n",
       "            }\n",
       "            .progress-bar-interrupted, .progress-bar-interrupted::-webkit-progress-bar {\n",
       "                background: #F44336;\n",
       "            }\n",
       "        </style>\n",
       "      <progress value='201' class='' max='201', style='width:300px; height:20px; vertical-align: middle;'></progress>\n",
       "      100.00% [201/201 00:16<00:00]\n",
       "    </div>\n",
       "    "
      ],
      "text/plain": [
       "<IPython.core.display.HTML object>"
      ]
     },
     "metadata": {},
     "output_type": "display_data"
    },
    {
     "data": {
      "text/plain": [
       "'tokenized_epistemonikos_data.txt'"
      ]
     },
     "execution_count": null,
     "metadata": {},
     "output_type": "execute_result"
    }
   ],
   "source": [
    "tokenize_file(data_filepath, tokenized_filepath)"
   ]
  },
  {
   "cell_type": "code",
   "execution_count": null,
   "metadata": {},
   "outputs": [
    {
     "data": {
      "text/markdown": [
       "<h4 id=\"train_model\" class=\"doc_header\"><code>train_model</code><a href=\"__main__.py#L28\" class=\"source_link\" style=\"float:right\">[source]</a></h4>\n",
       "\n",
       "> <code>train_model</code>(**`input_filename`**)\n",
       "\n"
      ],
      "text/plain": [
       "<IPython.core.display.Markdown object>"
      ]
     },
     "metadata": {},
     "output_type": "display_data"
    }
   ],
   "source": [
    "show_doc(train_model)"
   ]
  },
  {
   "cell_type": "code",
   "execution_count": null,
   "metadata": {},
   "outputs": [],
   "source": [
    "model = train_model(tokenized_filepath)"
   ]
  },
  {
   "cell_type": "code",
   "execution_count": null,
   "metadata": {},
   "outputs": [
    {
     "data": {
      "text/markdown": [
       "<h4 id=\"similars_tree_from_model\" class=\"doc_header\"><code>similars_tree_from_model</code><a href=\"__main__.py#L32\" class=\"source_link\" style=\"float:right\">[source]</a></h4>\n",
       "\n",
       "> <code>similars_tree_from_model</code>(**`model`**, **`vector_size`**=*`100`*)\n",
       "\n"
      ],
      "text/plain": [
       "<IPython.core.display.Markdown object>"
      ]
     },
     "metadata": {},
     "output_type": "display_data"
    }
   ],
   "source": [
    "show_doc(similars_tree_from_model)"
   ]
  },
  {
   "cell_type": "code",
   "execution_count": null,
   "metadata": {},
   "outputs": [],
   "source": [
    "labels, tree = similars_tree_from_model(model)"
   ]
  },
  {
   "cell_type": "code",
   "execution_count": null,
   "metadata": {},
   "outputs": [
    {
     "data": {
      "text/markdown": [
       "<h4 id=\"get_similars\" class=\"doc_header\"><code>get_similars</code><a href=\"__main__.py#L43\" class=\"source_link\" style=\"float:right\">[source]</a></h4>\n",
       "\n",
       "> <code>get_similars</code>(**`tree`**, **`labels`**, **`keyword`**, **`n_similars`**=*`10`*, **`show_score`**=*`False`*)\n",
       "\n"
      ],
      "text/plain": [
       "<IPython.core.display.Markdown object>"
      ]
     },
     "metadata": {},
     "output_type": "display_data"
    }
   ],
   "source": [
    "show_doc(get_similars)"
   ]
  },
  {
   "cell_type": "code",
   "execution_count": null,
   "metadata": {},
   "outputs": [
    {
     "data": {
      "text/plain": [
       "['obesity',\n",
       " 'overweight',\n",
       " 'obese children',\n",
       " 'ssbs',\n",
       " 'poor sleep quality',\n",
       " 'metabolic syndrome',\n",
       " 'obesity among children',\n",
       " 'dental caries',\n",
       " 'physical inactivity',\n",
       " 'obesity may',\n",
       " 'sedentary behaviour',\n",
       " 'food allergy',\n",
       " 'sugar-sweetened beverages',\n",
       " 'worldwide prevalence',\n",
       " 'known risk factor']"
      ]
     },
     "execution_count": null,
     "metadata": {},
     "output_type": "execute_result"
    }
   ],
   "source": [
    "get_similars(tree, labels, \"obesity\")"
   ]
  },
  {
   "cell_type": "code",
   "execution_count": null,
   "metadata": {},
   "outputs": [],
   "source": []
  }
 ],
 "metadata": {
  "kernelspec": {
   "display_name": "Python 3",
   "language": "python",
   "name": "python3"
  }
 },
 "nbformat": 4,
 "nbformat_minor": 4
}
